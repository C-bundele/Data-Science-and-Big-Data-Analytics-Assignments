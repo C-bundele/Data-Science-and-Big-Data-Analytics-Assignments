{
 "cells": [
  {
   "cell_type": "code",
   "execution_count": 1,
   "id": "39621c18",
   "metadata": {},
   "outputs": [],
   "source": [
    "import pandas as pd\n",
    "from sklearn.feature_extraction.text import TfidfVectorizer"
   ]
  },
  {
   "cell_type": "code",
   "execution_count": 8,
   "id": "69680c7c",
   "metadata": {},
   "outputs": [],
   "source": [
    "from nltk.probability import FreqDist"
   ]
  },
  {
   "cell_type": "code",
   "execution_count": 2,
   "id": "181b08b3",
   "metadata": {},
   "outputs": [],
   "source": [
    "documentA = 'Jupiter is the largest Planet'\n",
    "documentB ='Mars is the fourth planet from the Sun'"
   ]
  },
  {
   "cell_type": "code",
   "execution_count": 3,
   "id": "321b3f8f",
   "metadata": {},
   "outputs": [],
   "source": [
    "bagOfWordsA = documentA.split(' ')\n",
    "bagOfWordsB = documentB.split(' ')\n"
   ]
  },
  {
   "cell_type": "code",
   "execution_count": 4,
   "id": "a31627fc",
   "metadata": {},
   "outputs": [
    {
     "data": {
      "text/plain": [
       "{'Jupiter',\n",
       " 'Mars',\n",
       " 'Planet',\n",
       " 'Sun',\n",
       " 'fourth',\n",
       " 'from',\n",
       " 'is',\n",
       " 'largest',\n",
       " 'planet',\n",
       " 'the'}"
      ]
     },
     "execution_count": 4,
     "metadata": {},
     "output_type": "execute_result"
    }
   ],
   "source": [
    "uniqueWords = set(bagOfWordsA).union(bagOfWordsB)\n",
    "uniqueWords\n"
   ]
  },
  {
   "cell_type": "code",
   "execution_count": 10,
   "id": "5958c622",
   "metadata": {},
   "outputs": [
    {
     "data": {
      "text/plain": [
       "{'from': 0,\n",
       " 'Jupiter': 1,\n",
       " 'Mars': 0,\n",
       " 'Planet': 1,\n",
       " 'planet': 0,\n",
       " 'the': 1,\n",
       " 'largest': 1,\n",
       " 'is': 1,\n",
       " 'Sun': 0,\n",
       " 'fourth': 0}"
      ]
     },
     "execution_count": 10,
     "metadata": {},
     "output_type": "execute_result"
    }
   ],
   "source": [
    "dictOfWordsA = dict.fromkeys(uniqueWords,0)\n",
    "for word in bagOfWordsA:\n",
    "    dictOfWordsA[word] += 1\n",
    "dictOfWordsA\n"
   ]
  },
  {
   "cell_type": "code",
   "execution_count": 9,
   "id": "7ae285e2",
   "metadata": {},
   "outputs": [
    {
     "name": "stdout",
     "output_type": "stream",
     "text": [
      "Jupiter 1\n",
      "is 1\n",
      "the 1\n",
      "largest 1\n",
      "Planet 1\n"
     ]
    }
   ],
   "source": [
    "bagOfWordsA_freq = FreqDist(bagOfWordsA)\n",
    "for word, freq in bagOfWordsA_freq.items():\n",
    "    print(word, freq)"
   ]
  },
  {
   "cell_type": "code",
   "execution_count": 11,
   "id": "6018f36e",
   "metadata": {},
   "outputs": [
    {
     "data": {
      "text/plain": [
       "{'from': 1,\n",
       " 'Jupiter': 0,\n",
       " 'Mars': 1,\n",
       " 'Planet': 0,\n",
       " 'planet': 1,\n",
       " 'the': 2,\n",
       " 'largest': 0,\n",
       " 'is': 1,\n",
       " 'Sun': 1,\n",
       " 'fourth': 1}"
      ]
     },
     "execution_count": 11,
     "metadata": {},
     "output_type": "execute_result"
    }
   ],
   "source": [
    "dictOfWordsB = dict.fromkeys(uniqueWords,0)\n",
    "for word in bagOfWordsB:\n",
    "    dictOfWordsB[word] += 1\n",
    "dictOfWordsB\n"
   ]
  },
  {
   "cell_type": "code",
   "execution_count": 12,
   "id": "16084a0d",
   "metadata": {},
   "outputs": [],
   "source": [
    "def computeTF(wordDict, bagOfWords):\n",
    "    TfDict = {}\n",
    "    bagOfWordsCount = len(bagOfWords)\n",
    "    for word, count in wordDict.items():\n",
    "        TfDict[word] = count / float(bagOfWordsCount)\n",
    "    return TfDict\n"
   ]
  },
  {
   "cell_type": "code",
   "execution_count": 15,
   "id": "b395b912",
   "metadata": {},
   "outputs": [],
   "source": [
    "TF_of_A = computeTF(dictOfWordsA,bagOfWordsA)\n",
    "TF_of_B = computeTF(dictOfWordsB,bagOfWordsB)\n"
   ]
  },
  {
   "cell_type": "code",
   "execution_count": 16,
   "id": "03f6c727",
   "metadata": {
    "scrolled": true
   },
   "outputs": [
    {
     "data": {
      "text/plain": [
       "{'from': 0.0,\n",
       " 'Jupiter': 0.2,\n",
       " 'Mars': 0.0,\n",
       " 'Planet': 0.2,\n",
       " 'planet': 0.0,\n",
       " 'the': 0.2,\n",
       " 'largest': 0.2,\n",
       " 'is': 0.2,\n",
       " 'Sun': 0.0,\n",
       " 'fourth': 0.0}"
      ]
     },
     "execution_count": 16,
     "metadata": {},
     "output_type": "execute_result"
    }
   ],
   "source": [
    "TF_of_A"
   ]
  },
  {
   "cell_type": "code",
   "execution_count": 17,
   "id": "24ff3559",
   "metadata": {
    "scrolled": true
   },
   "outputs": [
    {
     "data": {
      "text/plain": [
       "{'from': 0.125,\n",
       " 'Jupiter': 0.0,\n",
       " 'Mars': 0.125,\n",
       " 'Planet': 0.0,\n",
       " 'planet': 0.125,\n",
       " 'the': 0.25,\n",
       " 'largest': 0.0,\n",
       " 'is': 0.125,\n",
       " 'Sun': 0.125,\n",
       " 'fourth': 0.125}"
      ]
     },
     "execution_count": 17,
     "metadata": {},
     "output_type": "execute_result"
    }
   ],
   "source": [
    "TF_of_B"
   ]
  },
  {
   "cell_type": "code",
   "execution_count": 18,
   "id": "c2a6c43b",
   "metadata": {},
   "outputs": [],
   "source": [
    "  import math"
   ]
  },
  {
   "cell_type": "code",
   "execution_count": 19,
   "id": "e239ec19",
   "metadata": {},
   "outputs": [],
   "source": [
    "def computeIDF(documents):\n",
    "  \n",
    "    N = len(documents)\n",
    "    idfDict = dict.fromkeys(documents[0].keys(),0)\n",
    "    for document in documents:\n",
    "        for word, val in document.items():\n",
    "            if val > 0:\n",
    "                idfDict[word] += 1\n",
    "    print(idfDict)\n",
    "    for word,val in idfDict.items():\n",
    "        idfDict[word] = math.log(N / float(val))\n",
    "    return idfDict"
   ]
  },
  {
   "cell_type": "code",
   "execution_count": 19,
   "id": "e32b54f3",
   "metadata": {},
   "outputs": [
    {
     "name": "stdout",
     "output_type": "stream",
     "text": [
      "4.605170185988092\n"
     ]
    }
   ],
   "source": [
    "print(math.log(100))"
   ]
  },
  {
   "cell_type": "code",
   "execution_count": 12,
   "id": "f3b019cc",
   "metadata": {},
   "outputs": [
    {
     "name": "stdout",
     "output_type": "stream",
     "text": [
      "{'Sun': 1, 'Mars': 1, 'planet': 1, 'is': 2, 'from': 1, 'Planet': 1, 'Jupiter': 1, 'fourth': 1, 'largest': 1, 'the': 2}\n"
     ]
    },
    {
     "data": {
      "text/plain": [
       "{'Sun': 0.6931471805599453,\n",
       " 'Mars': 0.6931471805599453,\n",
       " 'planet': 0.6931471805599453,\n",
       " 'is': 0.0,\n",
       " 'from': 0.6931471805599453,\n",
       " 'Planet': 0.6931471805599453,\n",
       " 'Jupiter': 0.6931471805599453,\n",
       " 'fourth': 0.6931471805599453,\n",
       " 'largest': 0.6931471805599453,\n",
       " 'the': 0.0}"
      ]
     },
     "execution_count": 12,
     "metadata": {},
     "output_type": "execute_result"
    }
   ],
   "source": [
    "idfs = computeIDF([numberOfWordsA,numberOfWordsB])\n",
    "idfs\n"
   ]
  },
  {
   "cell_type": "code",
   "execution_count": 14,
   "id": "36aba31f",
   "metadata": {},
   "outputs": [],
   "source": [
    "def computeTFIDF(tfBagofWords,idfs):\n",
    "    tfidf={}\n",
    "    for word, val in tfBagofWords.items():\n",
    "        tfidf[word]=val*idfs[word]\n",
    "    return tfidf"
   ]
  },
  {
   "cell_type": "code",
   "execution_count": 15,
   "id": "0f5ac8d6",
   "metadata": {},
   "outputs": [],
   "source": [
    "tfDifA = computeTFIDF(tfA,idfs)\n",
    "tfDifB = computeTFIDF(tfB,idfs)"
   ]
  },
  {
   "cell_type": "code",
   "execution_count": 16,
   "id": "992cd345",
   "metadata": {},
   "outputs": [
    {
     "data": {
      "text/plain": [
       "{'Mars': 0.0,\n",
       " 'from': 0.0,\n",
       " 'is': 0.0,\n",
       " 'planet': 0.0,\n",
       " 'the': 0.0,\n",
       " 'fourth': 0.0,\n",
       " 'Jupiter': 0.13862943611198905,\n",
       " 'Planet': 0.13862943611198905,\n",
       " 'largest': 0.13862943611198905,\n",
       " 'Sun': 0.0}"
      ]
     },
     "execution_count": 16,
     "metadata": {},
     "output_type": "execute_result"
    }
   ],
   "source": [
    "tfDifA\n"
   ]
  },
  {
   "cell_type": "code",
   "execution_count": 17,
   "id": "252d8bfb",
   "metadata": {},
   "outputs": [
    {
     "data": {
      "text/plain": [
       "{'Mars': 0.08664339756999316,\n",
       " 'from': 0.08664339756999316,\n",
       " 'is': 0.0,\n",
       " 'planet': 0.08664339756999316,\n",
       " 'the': 0.0,\n",
       " 'fourth': 0.08664339756999316,\n",
       " 'Jupiter': 0.0,\n",
       " 'Planet': 0.0,\n",
       " 'largest': 0.0,\n",
       " 'Sun': 0.08664339756999316}"
      ]
     },
     "execution_count": 17,
     "metadata": {},
     "output_type": "execute_result"
    }
   ],
   "source": [
    "tfDifB\n"
   ]
  },
  {
   "cell_type": "code",
   "execution_count": 18,
   "id": "24ec111a",
   "metadata": {},
   "outputs": [
    {
     "data": {
      "text/html": [
       "<div>\n",
       "<style scoped>\n",
       "    .dataframe tbody tr th:only-of-type {\n",
       "        vertical-align: middle;\n",
       "    }\n",
       "\n",
       "    .dataframe tbody tr th {\n",
       "        vertical-align: top;\n",
       "    }\n",
       "\n",
       "    .dataframe thead th {\n",
       "        text-align: right;\n",
       "    }\n",
       "</style>\n",
       "<table border=\"1\" class=\"dataframe\">\n",
       "  <thead>\n",
       "    <tr style=\"text-align: right;\">\n",
       "      <th></th>\n",
       "      <th>Mars</th>\n",
       "      <th>from</th>\n",
       "      <th>is</th>\n",
       "      <th>planet</th>\n",
       "      <th>the</th>\n",
       "      <th>fourth</th>\n",
       "      <th>Jupiter</th>\n",
       "      <th>Planet</th>\n",
       "      <th>largest</th>\n",
       "      <th>Sun</th>\n",
       "    </tr>\n",
       "  </thead>\n",
       "  <tbody>\n",
       "    <tr>\n",
       "      <th>0</th>\n",
       "      <td>0.000000</td>\n",
       "      <td>0.000000</td>\n",
       "      <td>0.0</td>\n",
       "      <td>0.000000</td>\n",
       "      <td>0.0</td>\n",
       "      <td>0.000000</td>\n",
       "      <td>0.138629</td>\n",
       "      <td>0.138629</td>\n",
       "      <td>0.138629</td>\n",
       "      <td>0.000000</td>\n",
       "    </tr>\n",
       "    <tr>\n",
       "      <th>1</th>\n",
       "      <td>0.086643</td>\n",
       "      <td>0.086643</td>\n",
       "      <td>0.0</td>\n",
       "      <td>0.086643</td>\n",
       "      <td>0.0</td>\n",
       "      <td>0.086643</td>\n",
       "      <td>0.000000</td>\n",
       "      <td>0.000000</td>\n",
       "      <td>0.000000</td>\n",
       "      <td>0.086643</td>\n",
       "    </tr>\n",
       "  </tbody>\n",
       "</table>\n",
       "</div>"
      ],
      "text/plain": [
       "       Mars      from   is    planet  the    fourth   Jupiter    Planet  \\\n",
       "0  0.000000  0.000000  0.0  0.000000  0.0  0.000000  0.138629  0.138629   \n",
       "1  0.086643  0.086643  0.0  0.086643  0.0  0.086643  0.000000  0.000000   \n",
       "\n",
       "    largest       Sun  \n",
       "0  0.138629  0.000000  \n",
       "1  0.000000  0.086643  "
      ]
     },
     "execution_count": 18,
     "metadata": {},
     "output_type": "execute_result"
    }
   ],
   "source": [
    "df=pd.DataFrame([tfDifA,tfDifB])\n",
    "df"
   ]
  },
  {
   "cell_type": "code",
   "execution_count": 18,
   "id": "e9ac378e",
   "metadata": {},
   "outputs": [
    {
     "name": "stdout",
     "output_type": "stream",
     "text": [
      "[['The', 'cat', 'sat', 'on', 'the', 'mat', '.'], ['The', 'dog', 'played', 'in', 'the', 'park', '.']]\n",
      "Document: The cat sat on the mat.\n",
      "The : 0.14285714285714285\n",
      "cat : 0.14285714285714285\n",
      "sat : 0.14285714285714285\n",
      "on : 0.14285714285714285\n",
      "the : 0.14285714285714285\n",
      "mat : 0.14285714285714285\n",
      ". : 0.14285714285714285\n",
      "\n",
      "Document: The dog played in the park.\n",
      "The : 0.14285714285714285\n",
      "dog : 0.14285714285714285\n",
      "played : 0.14285714285714285\n",
      "in : 0.14285714285714285\n",
      "the : 0.14285714285714285\n",
      "park : 0.14285714285714285\n",
      ". : 0.14285714285714285\n",
      "\n"
     ]
    }
   ],
   "source": [
    "import nltk\n",
    "from nltk.tokenize import word_tokenize\n",
    "\n",
    "# Sample documents\n",
    "documents = [\n",
    "    \"The cat sat on the mat.\",\n",
    "    \"The dog played in the park.\"\n",
    "]\n",
    "\n",
    "# Tokenize the documents\n",
    "tokenized_documents = [word_tokenize(doc) for doc in documents]\n",
    "\n",
    "print(tokenized_documents)\n",
    "# Calculate the TF values\n",
    "tf_values = []\n",
    "for doc_tokens in tokenized_documents:\n",
    "    word_frequency = nltk.FreqDist(doc_tokens)\n",
    "    total_words = len(doc_tokens)\n",
    "    tf = {}\n",
    "    for word, freq in word_frequency.items():\n",
    "        tf[word] = freq / total_words\n",
    "    tf_values.append(tf)\n",
    "\n",
    "# Print the TF values\n",
    "for doc_index, tf in enumerate(tf_values):\n",
    "    print(\"Document:\", documents[doc_index])\n",
    "    for word, value in tf.items():\n",
    "        print(word, \":\", value)\n",
    "    print()\n"
   ]
  }
 ],
 "metadata": {
  "kernelspec": {
   "display_name": "Python 3 (ipykernel)",
   "language": "python",
   "name": "python3"
  },
  "language_info": {
   "codemirror_mode": {
    "name": "ipython",
    "version": 3
   },
   "file_extension": ".py",
   "mimetype": "text/x-python",
   "name": "python",
   "nbconvert_exporter": "python",
   "pygments_lexer": "ipython3",
   "version": "3.9.13"
  }
 },
 "nbformat": 4,
 "nbformat_minor": 5
}
